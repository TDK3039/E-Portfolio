{
 "cells": [
  {
   "cell_type": "code",
   "execution_count": 1,
   "metadata": {},
   "outputs": [
    {
     "name": "stdout",
     "output_type": "stream",
     "text": [
      "Type the messages below (type 'quit' to quit):\n",
      "Message from ('127.0.0.1', 65433): \n"
     ]
    }
   ],
   "source": [
    "import socket\n",
    "import threading\n",
    "\n",
    "\n",
    "\n",
    "def receive_Messages(client_Socket):\n",
    "    while True:\n",
    "        try:\n",
    "            data, server_Address = client_Socket.recvfrom(2048)\n",
    "            print(f\"Message from {server_Address}: {data.decode()}\")\n",
    "        except:\n",
    "            break\n",
    "        \n",
    "# Setup UDP Server\n",
    "server_socket = socket.socket(socket.AF_INET, socket.SOCK_DGRAM) \n",
    "server_socket.bind(('localhost', 65433)) \n",
    "\n",
    "# Starting a thread\n",
    "thread = threading.Thread(target=receive_Messages, args=(server_socket,))\n",
    "thread.start()\n",
    "\n",
    "print(\"Type the messages below (type 'quit' to quit):\")\n",
    "while True:\n",
    "    message = input()\n",
    "    if message.lower() == 'quit':\n",
    "        break\n",
    "    server_socket.sendto(message.encode(), ('localhost', 65433))  \n",
    "\n",
    "server_socket.close()\n",
    "\n"
   ]
  }
 ],
 "metadata": {
  "kernelspec": {
   "display_name": "Python 3",
   "language": "python",
   "name": "python3"
  },
  "language_info": {
   "codemirror_mode": {
    "name": "ipython",
    "version": 3
   },
   "file_extension": ".py",
   "mimetype": "text/x-python",
   "name": "python",
   "nbconvert_exporter": "python",
   "pygments_lexer": "ipython3",
   "version": "3.13.2"
  }
 },
 "nbformat": 4,
 "nbformat_minor": 2
}
