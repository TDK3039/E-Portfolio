{
 "cells": [
  {
   "cell_type": "code",
   "execution_count": 1,
   "metadata": {},
   "outputs": [
    {
     "name": "stdout",
     "output_type": "stream",
     "text": [
      "User information dictionary:\n",
      "{'IP Address': '192.168.1.75'}\n"
     ]
    }
   ],
   "source": [
    "import socket\n",
    "#dictionary to store information\n",
    "user_info = {}\n",
    "\n",
    "#User IP Address\n",
    "hostname = socket.gethostname()\n",
    "ip_address = socket.gethostbyname(hostname)\n",
    "\n",
    "#add Ip address to the dictionary \n",
    "user_info[\"IP Address\"] = ip_address\n",
    "\n",
    "#Display the dictionary\n",
    "print(\"User information dictionary:\")\n",
    "print(user_info)"
   ]
  }
 ],
 "metadata": {
  "kernelspec": {
   "display_name": "Python 3",
   "language": "python",
   "name": "python3"
  },
  "language_info": {
   "codemirror_mode": {
    "name": "ipython",
    "version": 3
   },
   "file_extension": ".py",
   "mimetype": "text/x-python",
   "name": "python",
   "nbconvert_exporter": "python",
   "pygments_lexer": "ipython3",
   "version": "3.13.2"
  }
 },
 "nbformat": 4,
 "nbformat_minor": 2
}
