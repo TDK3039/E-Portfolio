{
 "cells": [
  {
   "cell_type": "code",
   "execution_count": null,
   "metadata": {},
   "outputs": [
    {
     "name": "stdout",
     "output_type": "stream",
     "text": [
      "The server is listening....\n",
      "Client connected from: ('127.0.0.1', 53170)\n",
      "Message received: hi\n",
      "File has been receuved and will be saved as 'received_file.txt'.\n"
     ]
    }
   ],
   "source": [
    "import socket \n",
    "\n",
    "#create a TCP server\n",
    "server = socket.socket(socket.AF_INET, socket.SOCK_STREAM)\n",
    "server.bind(('localhost', 65432))\n",
    "server.listen(1)\n",
    "print(\"The server is listening....\")\n",
    "\n",
    "while True:\n",
    "    client_conn, client_addr = server.accept()\n",
    "    print(f\"Client connected from: {client_addr}\")\n",
    "    \n",
    "    #receive a message\n",
    "    data = client_conn.recv(1024)\n",
    "    print(f\"Message received: {data.decode()}\")\n",
    "    client_conn.sendall(b\"ACK: \" + data)\n",
    "    \n",
    "    #file tranfer\n",
    "    try:\n",
    "        with open('received_file.txt', 'wb') as file:\n",
    "            while True:\n",
    "                chunk = client_conn.recv(1024)\n",
    "                if not chunk:\n",
    "                    break\n",
    "                file.write(chunk)\n",
    "        print(\"File has been receuved and will be saved as 'received_file.txt'.\")\n",
    "    except Exception as e:\n",
    "        print(f\"Error handling file: {e}\")\n",
    "        \n",
    "    client_conn.close\n",
    "        "
   ]
  }
 ],
 "metadata": {
  "kernelspec": {
   "display_name": "Python 3",
   "language": "python",
   "name": "python3"
  },
  "language_info": {
   "codemirror_mode": {
    "name": "ipython",
    "version": 3
   },
   "file_extension": ".py",
   "mimetype": "text/x-python",
   "name": "python",
   "nbconvert_exporter": "python",
   "pygments_lexer": "ipython3",
   "version": "3.13.2"
  }
 },
 "nbformat": 4,
 "nbformat_minor": 2
}
