{
 "cells": [
  {
   "cell_type": "code",
   "execution_count": 1,
   "metadata": {},
   "outputs": [
    {
     "ename": "ModuleNotFoundError",
     "evalue": "No module named 'cryptography'",
     "output_type": "error",
     "traceback": [
      "\u001b[31m---------------------------------------------------------------------------\u001b[39m",
      "\u001b[31mModuleNotFoundError\u001b[39m                       Traceback (most recent call last)",
      "\u001b[36mCell\u001b[39m\u001b[36m \u001b[39m\u001b[32mIn[1]\u001b[39m\u001b[32m, line 1\u001b[39m\n\u001b[32m----> \u001b[39m\u001b[32m1\u001b[39m \u001b[38;5;28;01mfrom\u001b[39;00m\u001b[38;5;250m \u001b[39m\u001b[34;01mcryptography\u001b[39;00m\u001b[34;01m.\u001b[39;00m\u001b[34;01mfernet\u001b[39;00m\u001b[38;5;250m \u001b[39m\u001b[38;5;28;01mimport\u001b[39;00m Fernet\n\u001b[32m      2\u001b[39m \u001b[38;5;66;03m#First step: Create secure key\u001b[39;00m\n\u001b[32m      3\u001b[39m key = Fernet.generate_key()\n",
      "\u001b[31mModuleNotFoundError\u001b[39m: No module named 'cryptography'"
     ]
    }
   ],
   "source": [
    "from cryptography.fernet import Fernet\n",
    "#First step: Create secure key\n",
    "key = Fernet.generate_key()\n",
    "cipher_tool = Fernet(key)\n",
    "\n",
    "#Second step: Encrypt message\n",
    "plain_Text = b\"Protecting the date with power of encryption!\"\n",
    "encrypted_Text = cipher_tool.encrypt(plain_Text)\n",
    "print(f\"The encrypted message: { encrypted_Text}\")\n",
    "\n",
    "#Final Step: Decrypt the message\n",
    "decrypted_text = cipher_tool.decrypt(encrypted_Text).decode()\n",
    "print(f\"The decrypted message is: {decrypted_text}\")"
   ]
  }
 ],
 "metadata": {
  "kernelspec": {
   "display_name": "Python 3",
   "language": "python",
   "name": "python3"
  },
  "language_info": {
   "codemirror_mode": {
    "name": "ipython",
    "version": 3
   },
   "file_extension": ".py",
   "mimetype": "text/x-python",
   "name": "python",
   "nbconvert_exporter": "python",
   "pygments_lexer": "ipython3",
   "version": "3.13.2"
  }
 },
 "nbformat": 4,
 "nbformat_minor": 2
}
