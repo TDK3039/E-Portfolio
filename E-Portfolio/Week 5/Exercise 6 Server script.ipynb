{
 "cells": [
  {
   "cell_type": "code",
   "execution_count": 1,
   "metadata": {},
   "outputs": [
    {
     "ename": "OSError",
     "evalue": "[WinError 10048] Only one usage of each socket address (protocol/network address/port) is normally permitted",
     "output_type": "error",
     "traceback": [
      "\u001b[31m---------------------------------------------------------------------------\u001b[39m",
      "\u001b[31mOSError\u001b[39m                                   Traceback (most recent call last)",
      "\u001b[36mCell\u001b[39m\u001b[36m \u001b[39m\u001b[32mIn[1]\u001b[39m\u001b[32m, line 26\u001b[39m\n\u001b[32m     24\u001b[39m \u001b[38;5;66;03m#setup server\u001b[39;00m\n\u001b[32m     25\u001b[39m server_socket = socket.socket(socket.AF_INET, socket.SOCK_STREAM)\n\u001b[32m---> \u001b[39m\u001b[32m26\u001b[39m \u001b[43mserver_socket\u001b[49m\u001b[43m.\u001b[49m\u001b[43mbind\u001b[49m\u001b[43m(\u001b[49m\u001b[43m(\u001b[49m\u001b[33;43m'\u001b[39;49m\u001b[33;43mlocalhost\u001b[39;49m\u001b[33;43m'\u001b[39;49m\u001b[43m,\u001b[49m\u001b[43m \u001b[49m\u001b[32;43m65432\u001b[39;49m\u001b[43m)\u001b[49m\u001b[43m)\u001b[49m\n\u001b[32m     27\u001b[39m server_socket.listen(\u001b[32m2\u001b[39m)\n\u001b[32m     28\u001b[39m \u001b[38;5;28mprint\u001b[39m(\u001b[33m\"\u001b[39m\u001b[33mThe Server is now ready and waiting for clients to join...\u001b[39m\u001b[33m\"\u001b[39m)\n",
      "\u001b[31mOSError\u001b[39m: [WinError 10048] Only one usage of each socket address (protocol/network address/port) is normally permitted"
     ]
    }
   ],
   "source": [
    "import socket\n",
    "import threading\n",
    "\n",
    "#function manage communication - server and client\n",
    "def handle_client(client_socket, other_client_socket, client_address):\n",
    "    print(f\"Client {client_address} has now connected.\")\n",
    "    try:\n",
    "        while True:\n",
    "            #Received message from client\n",
    "            data = client_socket.recv(1024)\n",
    "            if not data:\n",
    "                break \n",
    "            \n",
    "            #Send message to other client\n",
    "            print(f\"Message from {client_address}: {data.decode()}\")\n",
    "            if other_client_socket:\n",
    "                other_client_socket.sendall(data) \n",
    "    except Exception as e:\n",
    "        print(f\"The was an error with client {client_address}: {e}\")\n",
    "    finally:\n",
    "        print(f\"Client {client_address} has now disconnected.\")\n",
    "        client_socket.close()\n",
    "        \n",
    "#setup server\n",
    "server_socket = socket.socket(socket.AF_INET, socket.SOCK_STREAM)\n",
    "server_socket.bind(('localhost', 65432))\n",
    "server_socket.listen(2)\n",
    "print(\"The Server is now ready and waiting for clients to join...\")\n",
    "\n",
    "#Accept two clients\n",
    "client1, addr1 = server_socket.accept()\n",
    "print(f\"Client1 connected has from{addr1}\")\n",
    "\n",
    "client2, addr2 = server_socket.accept()\n",
    "print(f\"Client2 has connected from {addr2}\")\n",
    "\n",
    "#Tell them that the chat is ready to use\n",
    "client1.sendall(\"You are now connected! Now waiting for the messages from Client2.....\")\n",
    "client2.sendall(\"You are now connected! Now waiting for the messages from Client1.....\")\n",
    "\n",
    "#Start Threads\n",
    "thread1 = threading.Thread(target=handle_client, args=(client1, client2, addr1))\n",
    "thread2 = threading.Thread(target=handle_client, args=(client2, client1, addr2))\n",
    "thread1.start()\n",
    "thread2.start()\n",
    "\n",
    "#keep server continuing\n",
    "thread1.join()\n",
    "thread2.join()\n",
    "server_socket.close()\n"
   ]
  }
 ],
 "metadata": {
  "kernelspec": {
   "display_name": "Python 3",
   "language": "python",
   "name": "python3"
  },
  "language_info": {
   "codemirror_mode": {
    "name": "ipython",
    "version": 3
   },
   "file_extension": ".py",
   "mimetype": "text/x-python",
   "name": "python",
   "nbconvert_exporter": "python",
   "pygments_lexer": "ipython3",
   "version": "3.13.2"
  }
 },
 "nbformat": 4,
 "nbformat_minor": 2
}
