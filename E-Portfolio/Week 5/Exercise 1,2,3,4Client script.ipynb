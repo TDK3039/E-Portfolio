{
 "cells": [
  {
   "cell_type": "code",
   "execution_count": 1,
   "metadata": {},
   "outputs": [
    {
     "name": "stdout",
     "output_type": "stream",
     "text": [
      "Connected to server.\n",
      "reply from the server: ACK: hi\n",
      "Time take send the data: 0:00:00.000163\n",
      "File 'file_to_send.txt' successfully sent!\n"
     ]
    }
   ],
   "source": [
    "import socket\n",
    "import datetime\n",
    " \n",
    "# TCP Socket\n",
    "client = socket.socket(socket.AF_INET, socket.SOCK_STREAM)\n",
    "\n",
    "try:\n",
    "    client.connect(('localhost', 65432))\n",
    "    print(\"Connected to server.\")\n",
    "except ConnectionError as e:\n",
    "    print(f\"failed to connect to server: {e}\")\n",
    "    exit()\n",
    "    \n",
    "#Sending message to the server\n",
    "user_message = input (\"Enter your message: \")\n",
    "client.sendall(user_message.encode())\n",
    "\n",
    "#Measure time before sending the data \n",
    "start_Time = datetime.datetime.now()\n",
    "\n",
    "#wait for server's response\n",
    "server_reply = client.recv(1024)\n",
    "end_Time = datetime.datetime.now()\n",
    "\n",
    "#display server response\n",
    "print(f\"reply from the server: {server_reply.decode()}\")\n",
    "\n",
    "#Calculate time taken\n",
    "duration = end_Time - start_Time\n",
    "print (f\"Time take send the data: {duration}\")\n",
    "\n",
    "#Attempt to send a file \n",
    "file_path = 'file_to_send.txt'\n",
    "try:\n",
    "    with open(file_path, 'rb') as file:\n",
    "        client.sendfile(file)\n",
    "    print(f\"File '{file_path}' successfully sent!\")\n",
    "except FileNotFoundError:\n",
    "    print(f\"Error: The file '{file_path}' no found.\")\n",
    "\n",
    "\n",
    "client.close()"
   ]
  }
 ],
 "metadata": {
  "kernelspec": {
   "display_name": "Python 3",
   "language": "python",
   "name": "python3"
  },
  "language_info": {
   "codemirror_mode": {
    "name": "ipython",
    "version": 3
   },
   "file_extension": ".py",
   "mimetype": "text/x-python",
   "name": "python",
   "nbconvert_exporter": "python",
   "pygments_lexer": "ipython3",
   "version": "3.13.2"
  }
 },
 "nbformat": 4,
 "nbformat_minor": 2
}
