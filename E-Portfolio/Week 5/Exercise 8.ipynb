{
 "cells": [
  {
   "cell_type": "code",
   "execution_count": 1,
   "metadata": {},
   "outputs": [
    {
     "name": "stdout",
     "output_type": "stream",
     "text": [
      "The Weather data successfully was fetched/formatted.\n",
      "The Weather data successfully sent through TCP.\n"
     ]
    }
   ],
   "source": [
    "import socket \n",
    "import requests\n",
    "import json\n",
    "\n",
    "#First Step:Fetch weather Data\n",
    "weather_api_URL = \"https://api.open-meteo.com/v1/forecast?latitude=51.47&longitude=0.0363&current_weather=true\"\n",
    "response = requests.get(weather_api_URL)\n",
    "\n",
    "if response .status_code == 200:\n",
    "    weather_Data = response.json()\n",
    "    formatted_Weather = json.dumps(weather_Data, indent=2)\n",
    "    print (\"The Weather data successfully was fetched/formatted.\")\n",
    "else:\n",
    "    print(f\"We have failed to fetch the weather data. HTTP Status Code: {response.status_code}\")\n",
    "    formatted_Weather = \"Error: We were unable to fetch the weather data.\"\n",
    "    \n",
    "#Second Step: Send weather data through TCP\n",
    "try:\n",
    "    #set up client\n",
    "    with socket.socket(socket.AF_INET, socket.SOCK_STREAM) as tcp_client:\n",
    "        tcp_client.connect(('localhost', 65432))\n",
    "        tcp_client.sendall(formatted_Weather.encode())\n",
    "        print(\"The Weather data successfully sent through TCP.\")\n",
    "except ConnectionRefusedError:\n",
    "    print(\"We have failed to connect to server. Please make sure TCP server running on localhost:65432.\")"
   ]
  }
 ],
 "metadata": {
  "kernelspec": {
   "display_name": "Python 3",
   "language": "python",
   "name": "python3"
  },
  "language_info": {
   "codemirror_mode": {
    "name": "ipython",
    "version": 3
   },
   "file_extension": ".py",
   "mimetype": "text/x-python",
   "name": "python",
   "nbconvert_exporter": "python",
   "pygments_lexer": "ipython3",
   "version": "3.13.2"
  }
 },
 "nbformat": 4,
 "nbformat_minor": 2
}
