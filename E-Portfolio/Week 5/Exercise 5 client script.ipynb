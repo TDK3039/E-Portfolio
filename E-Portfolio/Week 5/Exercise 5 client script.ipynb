{
 "cells": [
  {
   "cell_type": "code",
   "execution_count": null,
   "metadata": {},
   "outputs": [],
   "source": [
    "import socket\n",
    "import threading\n",
    "\n",
    "# Function receive messages from server\n",
    "def receive_messages(client_socket):\n",
    "    while True:\n",
    "        try:\n",
    "            message = client_socket.recv(1024).decode()\n",
    "            print(message)\n",
    "        except:\n",
    "            print(\"Disconnected from the server.\")\n",
    "            break\n",
    "\n",
    "#Setup client\n",
    "client_socket = socket.socket(socket.AF_INET, socket.SOCK_STREAM)\n",
    "\n",
    "try:\n",
    "    client_socket.connect(('localhost', 65432))\n",
    "    print(\"Connected to the server.\")\n",
    "except Exception as e:\n",
    "    print(f\"Connection failed: {e}\")\n",
    "    exit()\n",
    "\n",
    "#Start thread\n",
    "receive_thread = threading.Thread(target=receive_messages, args=(client_socket,))\n",
    "receive_thread.daemon = True\n",
    "receive_thread.start()\n",
    "\n",
    "#Send messages to server\n",
    "while True:\n",
    "    message = input(\"Enter message (type 'exit' to quit): \")\n",
    "    if message.lower() == 'exit':\n",
    "        print(\"Exiting chat...\")\n",
    "        client_socket.close()\n",
    "        break\n",
    "    client_socket.sendall(message.encode())\n"
   ]
  }
 ],
 "metadata": {
  "language_info": {
   "name": "python"
  }
 },
 "nbformat": 4,
 "nbformat_minor": 2
}
