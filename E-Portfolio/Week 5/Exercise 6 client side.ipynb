{
 "cells": [
  {
   "cell_type": "code",
   "execution_count": 1,
   "metadata": {},
   "outputs": [
    {
     "name": "stdout",
     "output_type": "stream",
     "text": [
      "You are Connected to chat server!\n",
      "The Message from server: ACK: Hi my name is david \n",
      "Now Leaving the chat...\n",
      "The Connection to server was lost.\n"
     ]
    }
   ],
   "source": [
    "import socket\n",
    "import threading\n",
    "\n",
    "# Function listen for messages from server\n",
    "def listen_to_server(conn):\n",
    "    while True:\n",
    "        try:\n",
    "            server_message = conn.recv(1024)  \n",
    "            if not server_message:\n",
    "                break\n",
    "            print(f\"The Message from server: {server_message.decode()}\")\n",
    "        except:\n",
    "            print(\"The Connection to server was lost.\")\n",
    "            break\n",
    "\n",
    "#client connection\n",
    "chat_client = socket.socket(socket.AF_INET, socket.SOCK_STREAM)\n",
    "\n",
    "try:\n",
    "    chat_client.connect(('localhost', 65432))  \n",
    "    print(\"You are Connected to chat server!\")\n",
    "except ConnectionError as e:\n",
    "    print(f\"There was an error connecting to server: {e}\")\n",
    "    exit()\n",
    "\n",
    "#Create thread for incoming messages from server\n",
    "threading.Thread(target=listen_to_server, args=(chat_client,), daemon=True).start()\n",
    "\n",
    "#loop - send messages\n",
    "while True:\n",
    "    user_message = input(\"Enter the message (type 'quit' to quit): \")\n",
    "    if user_message.lower() == 'quit':\n",
    "        print(\"Now Leaving the chat...\")\n",
    "        chat_client.close()\n",
    "        break\n",
    "    chat_client.sendall(user_message.encode())  \n",
    "\n",
    "    "
   ]
  }
 ],
 "metadata": {
  "kernelspec": {
   "display_name": "Python 3",
   "language": "python",
   "name": "python3"
  },
  "language_info": {
   "codemirror_mode": {
    "name": "ipython",
    "version": 3
   },
   "file_extension": ".py",
   "mimetype": "text/x-python",
   "name": "python",
   "nbconvert_exporter": "python",
   "pygments_lexer": "ipython3",
   "version": "3.13.2"
  }
 },
 "nbformat": 4,
 "nbformat_minor": 2
}
