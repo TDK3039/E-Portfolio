{
 "cells": [
  {
   "cell_type": "code",
   "execution_count": 3,
   "metadata": {},
   "outputs": [],
   "source": [
    "import socket \n",
    "import threading \n",
    "\n",
    "#list of clients\n",
    "clients = []\n",
    "\n",
    "#function handle each client\n",
    "def handle_client(client_socket, client_address):\n",
    "    print(f\"client {client_address} is connected\")\n",
    "    clients.append(client_socket)\n",
    "    \n",
    "    while True:\n",
    "        try:\n",
    "            #Receive the messages from the client\n",
    "            message = client_socket.recv(1024).decode()\n",
    "            if not message:\n",
    "                break\n",
    "            print(f\"The Message from {client_address}:{message}\")\n",
    "    \n",
    "            #Send message to all clients \n",
    "            for client in clients: \n",
    "                if client != client_socket:\n",
    "                    client.sendall(f\"{client_address}: {message}\".encode()) \n",
    "            \n",
    "        except Exception as e:\n",
    "            print(f\"Error with the client {client_address}: {message}\".encode())\n",
    "            break\n",
    "            \n",
    "    print(f\"Client {client_address} has disconnected.\")\n",
    "    clients.remove(client_socket)\n",
    "    client_socket.close()\n",
    "    \n",
    "      #Setup server\n",
    "    server_socket = socket.socket(socket.AF_INET, socket.SOCK_STREAM)\n",
    "    server_socket.bind(('localhost, 65432'))\n",
    "    server_socket.listen(5)\n",
    "    print(\"The server is listening....\")\n",
    "      \n",
    "    while True:\n",
    "          try:\n",
    "              #accept the connections\n",
    "              client_socket, client_address = server_socket.accept()\n",
    "              #start thread\n",
    "              client_thread = threading.Thread(target=handle_client, args=(client_socket, client_address))\n",
    "              client_thread.daemon = True\n",
    "              client_thread.start()\n",
    "              \n",
    "          except KeyboardInterrupt:\n",
    "              print(\"\\nServer shutting down....\")\n",
    "              break\n",
    "          \n",
    "    server_socket.close()\n",
    "    \n",
    "                       "
   ]
  }
 ],
 "metadata": {
  "kernelspec": {
   "display_name": "Python 3",
   "language": "python",
   "name": "python3"
  },
  "language_info": {
   "codemirror_mode": {
    "name": "ipython",
    "version": 3
   },
   "file_extension": ".py",
   "mimetype": "text/x-python",
   "name": "python",
   "nbconvert_exporter": "python",
   "pygments_lexer": "ipython3",
   "version": "3.13.2"
  }
 },
 "nbformat": 4,
 "nbformat_minor": 2
}
