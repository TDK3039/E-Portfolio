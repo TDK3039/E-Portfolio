{
 "cells": [
  {
   "cell_type": "code",
   "execution_count": null,
   "metadata": {},
   "outputs": [
    {
     "name": "stdout",
     "output_type": "stream",
     "text": [
      "TCP Server is now listening on localHost:65432.....\n",
      "Now connected to ('127.0.0.1', 52552)\n",
      "Now receive data:\n",
      "{\n",
      "  \"latitude\": 51.48,\n",
      "  \"longitude\": 0.03999996,\n",
      "  \"generationtime_ms\": 0.04279613494873047,\n",
      "  \"utc_offset_seconds\": 0,\n",
      "  \"timezone\": \"GMT\",\n",
      "  \"timezone_abbreviation\": \"GMT\",\n",
      "  \"elevation\": 55.0,\n",
      "  \"current_weather_units\": {\n",
      "    \"time\": \"iso8601\",\n",
      "    \"interval\": \"seconds\",\n",
      "    \"temperature\": \"\\u00b0C\",\n",
      "    \"windspeed\": \"km/h\",\n",
      "    \"winddirection\": \"\\u00b0\",\n",
      "    \"is_day\": \"\",\n",
      "    \"weathercode\": \"wmo code\"\n",
      "  },\n",
      "  \"current_weather\": {\n",
      "    \"time\": \"2025-03-20T04:30\",\n",
      "    \"interval\": 900,\n",
      "    \"temperature\": 8.1,\n",
      "    \"windspeed\": 4.0,\n",
      "    \"winddirection\": 80,\n",
      "    \"is_day\": 0,\n",
      "    \"weathercode\": 2\n",
      "  }\n",
      "}\n"
     ]
    }
   ],
   "source": [
    "import socket\n",
    "\n",
    "#First step:Setup server socket\n",
    "server_socket = socket.socket(socket.AF_INET, socket.SOCK_STREAM)\n",
    "server_socket.bind(('localhost', 65432))\n",
    "server_socket.listen(1)\n",
    "print(\"TCP Server is now listening on localHost:65432.....\")\n",
    "\n",
    "while True:\n",
    "    #Second step: Accept connection\n",
    "    client_socket, client_address = server_socket.accept()\n",
    "    print(f\"Now connected to {client_address}\")\n",
    "    \n",
    "    #Third step:Receive the data from the client\n",
    "    data = client_socket.recv(1024).decode()\n",
    "    print(f\"Now receive data:\\n{data}\")\n",
    "    \n",
    "    #Fourth step:Close connection\n",
    "    client_socket.close()\n",
    "    "
   ]
  }
 ],
 "metadata": {
  "kernelspec": {
   "display_name": "Python 3",
   "language": "python",
   "name": "python3"
  },
  "language_info": {
   "codemirror_mode": {
    "name": "ipython",
    "version": 3
   },
   "file_extension": ".py",
   "mimetype": "text/x-python",
   "name": "python",
   "nbconvert_exporter": "python",
   "pygments_lexer": "ipython3",
   "version": "3.13.2"
  }
 },
 "nbformat": 4,
 "nbformat_minor": 2
}
