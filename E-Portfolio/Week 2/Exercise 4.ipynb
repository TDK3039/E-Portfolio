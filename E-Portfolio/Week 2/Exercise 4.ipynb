{
 "cells": [
  {
   "cell_type": "code",
   "execution_count": 1,
   "metadata": {},
   "outputs": [
    {
     "name": "stdout",
     "output_type": "stream",
     "text": [
      "1\n",
      "2\n",
      "3\n",
      "4\n",
      "5\n",
      "6\n",
      "7\n",
      "8\n",
      "9\n",
      "10\n",
      "2\n",
      "4\n",
      "6\n",
      "8\n",
      "10\n",
      "0\n",
      "1\n",
      "1\n",
      "2\n",
      "3\n"
     ]
    }
   ],
   "source": [
    "#Script to print the numbers from 1 to 10 - for loop\n",
    "for num in range(1, 11):\n",
    "    print (num)\n",
    "    \n",
    "#Script to print the even numbers from 2 to 10 - for loop\n",
    "for num in range(2, 11, 2):\n",
    "    print(num)\n",
    "    \n",
    "# Script to print the first 5 numbers of the Fibonacci sequence - while loop\n",
    "a, b = 0, 1\n",
    "count = 0\n",
    "\n",
    "while count < 5:\n",
    "    print (a)\n",
    "    a, b = b, a + b \n",
    "    count += 1"
   ]
  }
 ],
 "metadata": {
  "kernelspec": {
   "display_name": "Python 3",
   "language": "python",
   "name": "python3"
  },
  "language_info": {
   "codemirror_mode": {
    "name": "ipython",
    "version": 3
   },
   "file_extension": ".py",
   "mimetype": "text/x-python",
   "name": "python",
   "nbconvert_exporter": "python",
   "pygments_lexer": "ipython3",
   "version": "3.13.2"
  }
 },
 "nbformat": 4,
 "nbformat_minor": 2
}
