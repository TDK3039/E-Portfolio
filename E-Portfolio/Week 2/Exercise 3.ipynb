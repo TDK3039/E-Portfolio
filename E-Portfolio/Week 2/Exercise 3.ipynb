{
 "cells": [
  {
   "cell_type": "code",
   "execution_count": 1,
   "metadata": {},
   "outputs": [
    {
     "name": "stdout",
     "output_type": "stream",
     "text": [
      "The number shown is a postive number.\n",
      "This string starts with a consonant. \n",
      "The numbers are not equal.\n"
     ]
    }
   ],
   "source": [
    "#Check if a number is positive, negative or zero:\n",
    "num = float(input (\"Enter Number: \"))\n",
    "\n",
    "if num > 0:\n",
    "    print(\"The number shown is a postive number.\")\n",
    "elif num < 0:\n",
    "    print(\"The number shown is a negative number.\")\n",
    "else:\n",
    "    print(\"The number shown is zero\")\n",
    "    \n",
    "#Check if a string starts with a vowel or consonant\n",
    "string = input(\"Enter String: \").lower()\n",
    "if string [0] in \"aeiou\":\n",
    "    print(\"This string starts with a vowel.\")\n",
    "elif string[0].isalpha():\n",
    "    print(\"This string starts with a consonant. \")\n",
    "else:\n",
    "    print(\"The input does not start with a letter.\")\n",
    "    \n",
    "#Check if two numbers are equal or not\n",
    "num1 = float(input(\"Enter first number: \"))\n",
    "num2 = float(input(\"Enter second numnber: \"))\n",
    "if num1 == num2:\n",
    "    print (\"The numbers are equal numbers\")\n",
    "else:\n",
    "    print(\"The numbers are not equal.\")"
   ]
  }
 ],
 "metadata": {
  "kernelspec": {
   "display_name": "Python 3",
   "language": "python",
   "name": "python3"
  },
  "language_info": {
   "codemirror_mode": {
    "name": "ipython",
    "version": 3
   },
   "file_extension": ".py",
   "mimetype": "text/x-python",
   "name": "python",
   "nbconvert_exporter": "python",
   "pygments_lexer": "ipython3",
   "version": "3.13.2"
  }
 },
 "nbformat": 4,
 "nbformat_minor": 2
}
