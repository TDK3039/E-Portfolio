{
 "cells": [
  {
   "cell_type": "code",
   "execution_count": 1,
   "metadata": {},
   "outputs": [
    {
     "name": "stdout",
     "output_type": "stream",
     "text": [
      "The password is must have at least one uppercase letter.\n",
      "the password is must be 8 characters at least 8.\n",
      "The password must have at least one lowercase letter.\n",
      "The password must have at least one ither character (£, $, #, %, *, &, !, etc.).\n"
     ]
    }
   ],
   "source": [
    "def password_check_strength(password):\n",
    "    has_Uppercase = any(char.isupper() for char in password)\n",
    "    has_lowercase = any(char.islower() for char in password)\n",
    "    has_other = any(char in \"£$#%*&!\" for char in password)\n",
    "    is_password_Long = len(password) >= 8\n",
    "    \n",
    "    #check if password meets the requirements\n",
    "    if has_Uppercase and has_lowercase and has_other and is_password_Long:\n",
    "        print(\"The password is strong.\")\n",
    "    else:\n",
    "        #reasons for failure\n",
    "        if not has_Uppercase:\n",
    "            print(\"The password is must have at least one uppercase letter.\")\n",
    "        if not is_password_Long:\n",
    "            print(\"the password is must be 8 characters at least 8.\")\n",
    "        if not has_lowercase:\n",
    "            print(\"The password must have at least one lowercase letter.\")\n",
    "        if not has_other:\n",
    "            print(\"The password must have at least one ither character (£, $, #, %, *, &, !, etc.).\")\n",
    "            \n",
    "            \n",
    "        \n",
    "#Example\n",
    "password = input(\"Enter your Password: \")\n",
    "password_check_strength(password)\n"
   ]
  }
 ],
 "metadata": {
  "kernelspec": {
   "display_name": "Python 3",
   "language": "python",
   "name": "python3"
  },
  "language_info": {
   "codemirror_mode": {
    "name": "ipython",
    "version": 3
   },
   "file_extension": ".py",
   "mimetype": "text/x-python",
   "name": "python",
   "nbconvert_exporter": "python",
   "pygments_lexer": "ipython3",
   "version": "3.13.2"
  }
 },
 "nbformat": 4,
 "nbformat_minor": 2
}
