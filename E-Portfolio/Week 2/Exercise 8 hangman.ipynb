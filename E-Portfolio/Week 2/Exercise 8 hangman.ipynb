{
 "cells": [
  {
   "cell_type": "code",
   "execution_count": 1,
   "metadata": {},
   "outputs": [
    {
     "name": "stdout",
     "output_type": "stream",
     "text": [
      "Welcome to the game of Hangman!!\n",
      "The word that you're guessing has 8 letters\n",
      "_ _ _ _ _ _ _ _\n",
      "You've guessed wrong! remaining guesses: 6\n",
      "_ _ _ _ _ _ _ _\n",
      "You've guessed wrong! remaining guesses: 5\n",
      "_ _ _ _ _ _ _ _\n",
      "Well done!! 'o' is in the word\n",
      "_ o _ _ _ _ _ _\n",
      "Well done!! 'p' is in the word\n",
      "_ o _ p _ _ _ _\n",
      "Well done!! 'c' is in the word\n",
      "c o _ p _ _ _ _\n",
      "Well done!! 'm' is in the word\n",
      "c o m p _ _ _ _\n",
      "Well done!! 'u' is in the word\n",
      "c o m p u _ _ _\n",
      "Well done!! 't' is in the word\n",
      "c o m p u t _ _\n",
      "Well done!! 'e' is in the word\n",
      "c o m p u t e _\n",
      "Well done!! 'r' is in the word\n",
      "c o m p u t e r\n",
      "Congratulations, You guessed the word 'computer' correctly\n"
     ]
    }
   ],
   "source": [
    "import random\n",
    "def Hangman_Game():\n",
    "    Words = [\"java\", \"python\", \"javascript\", \"software\", \"computer\"]\n",
    "    Word_guess = random.choice(Words)\n",
    "    Max_Guesses = 7\n",
    "    Guessed_Letters = []\n",
    "    Wrong_guesses = 0\n",
    "    show_word = [\"_\"] * len (Word_guess)\n",
    "    \n",
    "    print(\"Welcome to the game of Hangman!!\")\n",
    "    print(f\"The word that you're guessing has {len(Word_guess)} letters\")\n",
    "    print(\" \".join(show_word))\n",
    "    \n",
    "    #section 2 of the game \n",
    "    while Wrong_guesses < Max_Guesses and \"_\" in show_word:\n",
    "        guess = input(\"Guess letter: \").lower()\n",
    "        \n",
    "        #Input valid?\n",
    "        if len(guess) != 1 or not guess.isalpha():\n",
    "            print(\"You can only enter one letter at a time\")\n",
    "            continue\n",
    "        \n",
    "        #Repeated guesses\n",
    "        if guess in Guessed_Letters:\n",
    "            print(\"Hey, you already guessed this letter!! Try another one\")\n",
    "            continue\n",
    "        \n",
    "        Guessed_Letters.append(guess)\n",
    "        \n",
    "       #Is the letter present in the word?\n",
    "        if guess in Word_guess:\n",
    "           print(f\"Well done!! '{guess}' is in the word\")\n",
    "           for idx, char in enumerate(Word_guess):\n",
    "               if char == guess:\n",
    "                   show_word[idx] = guess\n",
    "                   \n",
    "        else:\n",
    "            Wrong_guesses += 1\n",
    "            print(f\"You've guessed wrong! remaining guesses: {Max_Guesses - Wrong_guesses}\")\n",
    "            \n",
    "        #current progress of the word to guess\n",
    "        print(\" \".join(show_word))\n",
    "        \n",
    "    #Section 3 Game ending\n",
    "    if \"_\" not in show_word:\n",
    "        print(f\"Congratulations, You guessed the word '{Word_guess}' correctly\")\n",
    "    else:\n",
    "        print(f\"Game has ended! The word was '{Word_guess}'. Hope you do better next time!\") \n",
    "        \n",
    "#run the game \n",
    "Hangman_Game() "
   ]
  }
 ],
 "metadata": {
  "kernelspec": {
   "display_name": "Python 3",
   "language": "python",
   "name": "python3"
  },
  "language_info": {
   "codemirror_mode": {
    "name": "ipython",
    "version": 3
   },
   "file_extension": ".py",
   "mimetype": "text/x-python",
   "name": "python",
   "nbconvert_exporter": "python",
   "pygments_lexer": "ipython3",
   "version": "3.13.2"
  }
 },
 "nbformat": 4,
 "nbformat_minor": 2
}
