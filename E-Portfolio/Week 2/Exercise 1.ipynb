{
 "cells": [
  {
   "cell_type": "code",
   "execution_count": 1,
   "metadata": {},
   "outputs": [
    {
     "name": "stdout",
     "output_type": "stream",
     "text": [
      "The result is: 15\n",
      "The result is: 5\n",
      "The answer is: 50\n",
      "The answer is: 2.0\n",
      "The remainder is: 2\n",
      "The answer of 2 to the power of 3 is: 8\n"
     ]
    }
   ],
   "source": [
    "#Adding two numbers \n",
    "num1 = 10\n",
    "num2 = 5\n",
    "answer = num1 + num2\n",
    "print(f\"The result is: {answer}\")\n",
    "\n",
    "#Subtracting two numbers \n",
    "num1 = 10\n",
    "num2 = 5\n",
    "answer = num1 - num2\n",
    "print(f\"The result is: {answer}\")\n",
    "\n",
    "#Multiplying two numbers \n",
    "num1 = 10\n",
    "num2 = 5\n",
    "answer = num1 * num2\n",
    "print(f\"The answer is: {answer}\")\n",
    "\n",
    "#Dividing two numbers \n",
    "num1 = 10\n",
    "num2 = 5\n",
    "answer = num1 / num2\n",
    "print(f\"The answer is: {answer}\")\n",
    "\n",
    "#Getting the remainder\n",
    "num1 = 10\n",
    "num2 = 4\n",
    "answer = num1 % num2\n",
    "print (f\"The remainder is: {answer}\")\n",
    "\n",
    "#Power of a number\n",
    "base = 2\n",
    "exponent  = 3\n",
    "answer = base ** exponent\n",
    "print(f\"The answer of {base} to the power of {exponent} is: {answer}\")"
   ]
  }
 ],
 "metadata": {
  "kernelspec": {
   "display_name": "Python 3",
   "language": "python",
   "name": "python3"
  },
  "language_info": {
   "codemirror_mode": {
    "name": "ipython",
    "version": 3
   },
   "file_extension": ".py",
   "mimetype": "text/x-python",
   "name": "python",
   "nbconvert_exporter": "python",
   "pygments_lexer": "ipython3",
   "version": "3.13.2"
  }
 },
 "nbformat": 4,
 "nbformat_minor": 2
}
