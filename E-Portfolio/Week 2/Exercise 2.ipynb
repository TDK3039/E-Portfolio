{
 "cells": [
  {
   "cell_type": "code",
   "execution_count": 1,
   "metadata": {},
   "outputs": [
    {
     "name": "stdout",
     "output_type": "stream",
     "text": [
      "List of fruits: ['Apple', 'Banana', 'Orange', 'Mango', 'Pineapple']\n",
      "Tuple of animals: ('Monkey', 'Lion', 'Giraffe')\n",
      "Programming language dictionary: {'C': 1972, 'Python': 1995, 'Java': 1995}\n",
      "Colours Set: {'Red', 'Blue', 'Green'}\n",
      "Sentence String: Python is an easy-to-learn programming language.\n"
     ]
    }
   ],
   "source": [
    "#Create a list of 5 different fruites and print the list:\n",
    "fruits = [\"Apple\", \"Banana\", \"Orange\", \"Mango\", \"Pineapple\"]\n",
    "print(\"List of fruits:\", fruits)\n",
    "\n",
    "#Create a tuple of 3 different animals and print the tuple\n",
    "animals = (\"Monkey\", \"Lion\", \"Giraffe\")\n",
    "print(\"Tuple of animals:\", animals)\n",
    "\n",
    "#Create a dictionary of 3 different key-value pairs where the keys are names of programming languages and the values are their release dates.\n",
    "languages = {\n",
    "    \"C\":1972,\n",
    "    \"Python\": 1995,\n",
    "    \"Java\": 1995\n",
    "}\n",
    "print(\"Programming language dictionary:\", languages)\n",
    "\n",
    "#Create a set of 3 different colours and print the set\n",
    "colours = {\"Red\", \"Green\", \"Blue\"}\n",
    "print (\"Colours Set:\", colours)\n",
    "\n",
    "#Create a string variable containing the sentence and print it\n",
    "sentence = \"Python is an easy-to-learn programming language.\"\n",
    "print(\"Sentence String:\", sentence)"
   ]
  }
 ],
 "metadata": {
  "kernelspec": {
   "display_name": "Python 3",
   "language": "python",
   "name": "python3"
  },
  "language_info": {
   "codemirror_mode": {
    "name": "ipython",
    "version": 3
   },
   "file_extension": ".py",
   "mimetype": "text/x-python",
   "name": "python",
   "nbconvert_exporter": "python",
   "pygments_lexer": "ipython3",
   "version": "3.13.2"
  }
 },
 "nbformat": 4,
 "nbformat_minor": 2
}
