{
 "cells": [
  {
   "cell_type": "code",
   "execution_count": 1,
   "metadata": {},
   "outputs": [
    {
     "name": "stdout",
     "output_type": "stream",
     "text": [
      "The sum of the numbers are: 15\n",
      "The largest number is: 10\n",
      "The number of vowels in this is: 7\n"
     ]
    }
   ],
   "source": [
    "#Function to take two numbers as parameters and return sum\n",
    "def add_numbers(num1, num2):\n",
    "    return num1 + num2\n",
    "\n",
    "#Example\n",
    "answer = add_numbers(10, 5)\n",
    "print (f\"The sum of the numbers are: {answer}\")\n",
    "\n",
    "#Function take list of numbers as a parameter and return largest number\n",
    "def find_largest(numbers):\n",
    "    return max(numbers)\n",
    "\n",
    "#Example\n",
    "numbers_List = [3, 5, 8, 2, 10]\n",
    "largest = find_largest(numbers_List)\n",
    "print(f\"The largest number is: {largest}\")\n",
    "\n",
    "#Function take string as parameter and return number of vowels in string\n",
    "def Vowels_Count (string):\n",
    "    vowels = \"AEIOUaeiou\"\n",
    "    count = sum(1 for char in string if char in vowels)\n",
    "    return count\n",
    "\n",
    "#Example\n",
    "text = \"Python is actually alright\"\n",
    "Vowels_Count = Vowels_Count(text)\n",
    "print(f\"The number of vowels in this is: {Vowels_Count}\")\n",
    "\n",
    "\n"
   ]
  }
 ],
 "metadata": {
  "kernelspec": {
   "display_name": "Python 3",
   "language": "python",
   "name": "python3"
  },
  "language_info": {
   "codemirror_mode": {
    "name": "ipython",
    "version": 3
   },
   "file_extension": ".py",
   "mimetype": "text/x-python",
   "name": "python",
   "nbconvert_exporter": "python",
   "pygments_lexer": "ipython3",
   "version": "3.13.2"
  }
 },
 "nbformat": 4,
 "nbformat_minor": 2
}
