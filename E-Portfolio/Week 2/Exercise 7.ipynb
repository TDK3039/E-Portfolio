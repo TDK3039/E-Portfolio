{
 "cells": [
  {
   "cell_type": "code",
   "execution_count": 2,
   "metadata": {},
   "outputs": [
    {
     "name": "stdout",
     "output_type": "stream",
     "text": [
      "Result:    \n"
     ]
    }
   ],
   "source": [
    "def caesar_Cipher(message, key, mode): \n",
    "    result = \"\" \n",
    "    for char in message: \n",
    "        if char.isalpha(): \n",
    "            ASCII_offset = 65 if char.isupper() else 97 \n",
    "            if mode == \"Encrypt\": \n",
    "                new_char = chr((ord(char) - ASCII_offset + key) % 26 + ASCII_offset) \n",
    "                result += new_char\n",
    "            elif mode == \"Decrypt\": \n",
    "                new_char = chr((ord(char) - ASCII_offset - key) % 26 + ASCII_offset) \n",
    "                result += new_char \n",
    "        else: \n",
    "            result += char   \n",
    "    return result\n",
    "\n",
    "#Example \n",
    "message = input (\"Enter message: \") \n",
    "key = int(input(\"Enter the key: \")) \n",
    "mode = input(\"Enter mode ('Encrypt' or 'Decrypt'): \") \n",
    "output = caesar_Cipher(message, key, mode) \n",
    "print(f\"Result: {output}\")"
   ]
  }
 ],
 "metadata": {
  "kernelspec": {
   "display_name": "Python 3",
   "language": "python",
   "name": "python3"
  },
  "language_info": {
   "codemirror_mode": {
    "name": "ipython",
    "version": 3
   },
   "file_extension": ".py",
   "mimetype": "text/x-python",
   "name": "python",
   "nbconvert_exporter": "python",
   "pygments_lexer": "ipython3",
   "version": "3.13.2"
  }
 },
 "nbformat": 4,
 "nbformat_minor": 2
}
