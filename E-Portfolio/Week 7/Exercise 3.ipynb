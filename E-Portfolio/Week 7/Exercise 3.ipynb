{
 "cells": [
  {
   "cell_type": "code",
   "execution_count": 1,
   "metadata": {},
   "outputs": [
    {
     "name": "stdout",
     "output_type": "stream",
     "text": [
      "The Generated Checksum: 0b1001011110010111\n",
      "The checksum Validation: It has passed\n"
     ]
    }
   ],
   "source": [
    "def ones_complement_Addition(a, b, bit_size =16):\n",
    "    result = a + b\n",
    "    if result >= (1<<bit_size):\n",
    "        result = (result + 1) & ((1 << bit_size) - 1)\n",
    "    return result\n",
    "\n",
    "def generate_checkSum(data, bit_size = 16):\n",
    "    checkSum = 0\n",
    "    for word in data:\n",
    "        checkSum = ones_complement_Addition(checkSum, word, bit_size)\n",
    "    return ~checkSum &((1 << bit_size) - 1)\n",
    "\n",
    "def validate_checkSum(data, checkSum, bit_size=16):\n",
    "    total = checkSum\n",
    "    for word in data:\n",
    "        total = ones_complement_Addition(total, word, bit_size)\n",
    "    return total == (1 << bit_size) - 1\n",
    "\n",
    "#Example \n",
    "data_blocks = [0b1010101010101010, 0b1100110011001100, 0b1111000011110000]\n",
    "checkSum = generate_checkSum(data_blocks)\n",
    "\n",
    "print(f\"The Generated Checksum: {bin(checkSum)}\")\n",
    "is_valid = validate_checkSum(data_blocks, checkSum)\n",
    "print(\"The checksum Validation:\", \"It has passed\" if is_valid else \"Failed\")"
   ]
  }
 ],
 "metadata": {
  "kernelspec": {
   "display_name": "Python 3",
   "language": "python",
   "name": "python3"
  },
  "language_info": {
   "codemirror_mode": {
    "name": "ipython",
    "version": 3
   },
   "file_extension": ".py",
   "mimetype": "text/x-python",
   "name": "python",
   "nbconvert_exporter": "python",
   "pygments_lexer": "ipython3",
   "version": "3.13.2"
  }
 },
 "nbformat": 4,
 "nbformat_minor": 2
}
