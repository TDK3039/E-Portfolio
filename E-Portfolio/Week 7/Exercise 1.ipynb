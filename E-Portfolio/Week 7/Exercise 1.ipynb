{
 "cells": [
  {
   "cell_type": "code",
   "execution_count": 1,
   "metadata": {},
   "outputs": [
    {
     "name": "stdout",
     "output_type": "stream",
     "text": [
      "The Original Data: 0\n",
      "The Caluclated Even parity bit is: 0\n",
      "\n",
      "Transmitted Data: [1, 0, 1, 0, 1, 1, 0, 0, 0]\n",
      "\n",
      "data with Error at the index position 4 : [1, 0, 1, 0, 0, 1, 0, 0, 0]\n",
      "\n",
      "Error detected (Parity Check Failed)\n"
     ]
    }
   ],
   "source": [
    "#Function calculate even parity bit\n",
    "def calculate_even_Parity(data):\n",
    "    return sum(data) % 2\n",
    "\n",
    "#define original data bits \n",
    "data = [1, 0, 1, 0, 1, 1, 0, 0]\n",
    "even_Parity = calculate_even_Parity(data)\n",
    "\n",
    "print(\"The Original Data:\", even_Parity)\n",
    "print(\"The Caluclated Even parity bit is:\", even_Parity)\n",
    "\n",
    "#transmit data - parity bit appended\n",
    "transmitted = data + [even_Parity]\n",
    "print(\"\\nTransmitted Data:\", transmitted)\n",
    "\n",
    "#stimulate error - flippinf bit - specific position\n",
    "error_Position = 4\n",
    "received_Data = transmitted.copy() \n",
    "received_Data [error_Position] ^= 1 \n",
    "\n",
    "print(\"\\ndata with Error at the index position\", error_Position, \":\", received_Data)\n",
    "\n",
    "#Check for errors - reciever\n",
    "if sum (received_Data) % 2 == 0:\n",
    "    print (\"\\nNo Errors Detected (Parity Check has been passed)\")\n",
    "else:\n",
    "    print(\"\\nError detected (Parity Check Failed)\")\n",
    "\n",
    "\n",
    "\n"
   ]
  }
 ],
 "metadata": {
  "kernelspec": {
   "display_name": "Python 3",
   "language": "python",
   "name": "python3"
  },
  "language_info": {
   "codemirror_mode": {
    "name": "ipython",
    "version": 3
   },
   "file_extension": ".py",
   "mimetype": "text/x-python",
   "name": "python",
   "nbconvert_exporter": "python",
   "pygments_lexer": "ipython3",
   "version": "3.13.2"
  }
 },
 "nbformat": 4,
 "nbformat_minor": 2
}
