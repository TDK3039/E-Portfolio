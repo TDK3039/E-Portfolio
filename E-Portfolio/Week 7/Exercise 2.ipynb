{
 "cells": [
  {
   "cell_type": "code",
   "execution_count": 1,
   "metadata": {},
   "outputs": [
    {
     "name": "stdout",
     "output_type": "stream",
     "text": [
      "The Original Data Matrix:\n",
      " [[1 0 1 1]\n",
      " [0 1 0 0]\n",
      " [1 1 1 0]\n",
      " [0 0 1 1]]\n",
      "The Row parity: [0 0 1 0]\n",
      "\n",
      "Matrix with an Error at (2, 3) :\n",
      " [[1 0 1 1]\n",
      " [0 1 0 0]\n",
      " [1 1 1 1]\n",
      " [0 0 1 1]]\n",
      "An Error detected at: (np.int64(2), np.int64(3))\n",
      "Corrected Matrix:\n",
      " [[1 0 1 1]\n",
      " [0 1 0 0]\n",
      " [1 1 1 0]\n",
      " [0 0 1 1]]\n"
     ]
    }
   ],
   "source": [
    "import numpy as np\n",
    "\n",
    "#Function row and column parity\n",
    "def compute_2D_Parity(matrix):\n",
    "    row_Parity = np.sum(matrix, axis=1) % 2\n",
    "    col_parity = np.sum(matrix, axis=0) % 2\n",
    "    return row_Parity, col_parity\n",
    "\n",
    "#Initialise data matrix 4x4\n",
    "matrix = np.array([\n",
    "   [1, 0, 1, 1],\n",
    "   [0, 1, 0, 0],\n",
    "   [1, 1, 1, 0],\n",
    "   [0, 0, 1, 1],\n",
    "])\n",
    "print (\"The Original Data Matrix:\\n\", matrix)\n",
    "\n",
    "#calculate original parity bit\n",
    "row_Parity, col_Parity = compute_2D_Parity(matrix)\n",
    "print(\"The Row parity:\", col_Parity)\n",
    "\n",
    "#stimulate error in the matrix\n",
    "error_Position = (2, 3)\n",
    "matrix_with_Error = matrix.copy()\n",
    "matrix_with_Error[error_Position] ^= 1\n",
    "\n",
    "print(\"\\nMatrix with an Error at\", error_Position, \":\\n\", matrix_with_Error)\n",
    "\n",
    "#Detect error using parity\n",
    "new_row_parity, new_col_parity = compute_2D_Parity(matrix_with_Error)\n",
    "error_row = np.where(row_Parity != new_row_parity)[0]\n",
    "error_col = np.where(col_Parity != new_col_parity)[0]\n",
    "\n",
    "if len(error_row) == 1 and len(error_col) == 1:\n",
    "    error_loc = (error_row[0], error_col[0])\n",
    "    print(\"An Error detected at:\", error_loc) \n",
    "    \n",
    "    #correct error\n",
    "    matrix_with_Error[error_loc] ^= 1\n",
    "    print(\"Corrected Matrix:\\n\", matrix_with_Error)\n",
    "    \n",
    "else:\n",
    "    print(\"There are no single-bit errors or multiple errors detected.\")\n",
    "    \n",
    "    \n"
   ]
  }
 ],
 "metadata": {
  "kernelspec": {
   "display_name": "Python 3",
   "language": "python",
   "name": "python3"
  },
  "language_info": {
   "codemirror_mode": {
    "name": "ipython",
    "version": 3
   },
   "file_extension": ".py",
   "mimetype": "text/x-python",
   "name": "python",
   "nbconvert_exporter": "python",
   "pygments_lexer": "ipython3",
   "version": "3.13.2"
  }
 },
 "nbformat": 4,
 "nbformat_minor": 2
}
