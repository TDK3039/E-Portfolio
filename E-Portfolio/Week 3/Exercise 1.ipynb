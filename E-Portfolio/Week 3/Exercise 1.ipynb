{
 "cells": [
  {
   "cell_type": "code",
   "execution_count": null,
   "metadata": {},
   "outputs": [],
   "source": [
    "import socket\n",
    "\n",
    "def get_IP_address(website_URL):\n",
    "    try:\n",
    "        ip_address = socket.gethostbyname(website_URL)\n",
    "        print(f\"The IP Address of the website {website_URL} is {ip_address}\")\n",
    "    except socket.gaierror:\n",
    "        print(f\" Sorry, unable to get IP Address for {website_URL}\")\n",
    "        \n",
    "#example\n",
    "Websites = [\"Amazon.com\", \"github.com\", \"youtube.com\"]\n",
    "for site in Websites:\n",
    "    get_IP_address(site)"
   ]
  }
 ],
 "metadata": {
  "language_info": {
   "name": "python"
  }
 },
 "nbformat": 4,
 "nbformat_minor": 2
}
