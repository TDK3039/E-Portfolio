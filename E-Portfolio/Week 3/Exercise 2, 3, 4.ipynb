{
 "cells": [
  {
   "cell_type": "code",
   "execution_count": null,
   "metadata": {},
   "outputs": [],
   "source": [
    "import subprocess\n",
    "def tracert(domain):\n",
    "    try:\n",
    "        result = subprocess.run([\"tracert\", domain], capture_output=True, text=True)\n",
    "        if result.stdout:\n",
    "            print(result.stdout)\n",
    "        else:\n",
    "            print(f\"No output captured for {domain}.\")\n",
    "            \n",
    "    except subprocess.TimeoutExpired:\n",
    "        print(f\"Timeout: tracert for {domain} took too long and so it was terminated.\")\n",
    "    except FileNotFoundError:\n",
    "        print(\"The tracert command could not be found. Ensure it is available.\")\n",
    "    except Exception as e:\n",
    "        print(f\"An error has occurred: {e}\")\n",
    "        \n",
    "#Example\n",
    "domains = [\"amazon.com\", \"github.com\", \"youtube.com\"]\n",
    "for domain in domains:\n",
    "    print(f\"Tracing route for {domain}:\\n\")\n",
    "    tracert(domain)\n",
    "    print(\"-\" * 50)"
   ]
  }
 ],
 "metadata": {
  "language_info": {
   "name": "python"
  }
 },
 "nbformat": 4,
 "nbformat_minor": 2
}
