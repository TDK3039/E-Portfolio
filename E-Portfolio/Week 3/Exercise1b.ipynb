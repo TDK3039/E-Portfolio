{
 "cells": [
  {
   "cell_type": "code",
   "execution_count": null,
   "metadata": {},
   "outputs": [],
   "source": [
    "\n",
    "import subprocess\n",
    "\n",
    "def tracert(domain):\n",
    "    try: \n",
    "        result = subprocess.run([\"tracert\", domain], capture_output=True, text=True)\n",
    "        if result.stdout:\n",
    "            print(result.stdout)\n",
    "        else:\n",
    "            print(f\"No output captures for the {domain}\")\n",
    "    except FileNotFoundError:\n",
    "        print(\"tracert command is not found. Ensure it is available.\")\n",
    "    except Exception as e:\n",
    "        print(f\"An error occurred: {e}\")\n",
    "        \n",
    "        \n",
    "#example\n",
    "domain = input(\"Enter the name of the website or IP address: \")\n",
    "tracert(domain)"
   ]
  }
 ],
 "metadata": {
  "language_info": {
   "name": "python"
  }
 },
 "nbformat": 4,
 "nbformat_minor": 2
}
