{
 "cells": [
  {
   "cell_type": "code",
   "execution_count": 4,
   "metadata": {},
   "outputs": [
    {
     "name": "stdout",
     "output_type": "stream",
     "text": [
      "=== DHCP Simulation ===\n",
      "\n",
      "[CLIENT] Step 1: Sending DISCOVERY\n",
      "\n",
      "[SERVER] Step 2: SENDING OFFER\n",
      "\n",
      "[CLIENT] Step 3: Requesting the IP\n",
      "\n",
      "[SERVER] Step 4: Acknowledging Request\n",
      "\n",
      "[RESULT] Client AA:BB:CC:DD:EE:FF received IP: 192.168.1.100\n",
      "Server Leases: {'AA:BB:CC:DD:EE:FF': '192.168.1.100'}\n"
     ]
    }
   ],
   "source": [
    "#DHCP SERVER Config\n",
    "dhcp_server = {\n",
    "    \"ip_pool\": [\"192.168.1.100\", \"192.168.1.102\"],\n",
    "    \"Leases\": {}\n",
    "}\n",
    "\n",
    "#DHCP client config\n",
    "dhcp_client = {\n",
    "    \"mac\": \"AA:BB:CC:DD:EE:FF\",\n",
    "    \"ip\": None\n",
    "}\n",
    "\n",
    "def simulate_dhcp_discovery():\n",
    "    print(\"\\n[CLIENT] Step 1: Sending DISCOVERY\")\n",
    "    return{\"type\": \"DISCOVER\", \"mac\": dhcp_client[\"mac\"]}\n",
    "\n",
    "def simulate_dhcp_offer(discovery):\n",
    "    print(\"\\n[SERVER] Step 2: SENDING OFFER\")\n",
    "    if not dhcp_server[\"ip_pool\"]:\n",
    "        print(\"There are no IPs available!!\")\n",
    "        return None\n",
    "    \n",
    "    assigned_ip= dhcp_server[\"ip_pool\"].pop(0)\n",
    "    return {\"type\":\"OFFER\", \"mac\": discovery[\"mac\"], \"ip\": assigned_ip}\n",
    "\n",
    "def simulate_dhcp_request(offer):\n",
    "    print(\"\\n[CLIENT] Step 3: Requesting the IP\")\n",
    "    return{\"type\": \"REQUEST\", \"mac\": offer[\"mac\"], \"ip\": offer[\"ip\"]}\n",
    "\n",
    "def simulate_dhcp_ack(request):\n",
    "    print(\"\\n[SERVER] Step 4: Acknowledging Request\")\n",
    "    dhcp_server[\"Leases\"][request[\"mac\"]] = request [ \"ip\"]\n",
    "    return {\"type\": \"ACK\", \"mac\": request[\"mac\"], \"ip\": request [\"ip\"]}\n",
    "\n",
    "                          \n",
    "def run_dhcp_simulation():\n",
    "    print(\"=== DHCP Simulation ===\")\n",
    "    discover = simulate_dhcp_discovery()\n",
    "    offer = simulate_dhcp_offer(discover)\n",
    "    if not offer:\n",
    "        return\n",
    "    request = simulate_dhcp_request(offer)\n",
    "    ack = simulate_dhcp_ack(request)\n",
    "    dhcp_client[\"ip\"] = ack[\"ip\"]\n",
    "    print(f\"\\n[RESULT] Client {dhcp_client['mac']} received IP: {dhcp_client['ip']}\")\n",
    "    print(f\"Server Leases: {dhcp_server['Leases']}\")\n",
    "    \n",
    "      #Exanple:\n",
    "run_dhcp_simulation()"
   ]
  }
 ],
 "metadata": {
  "kernelspec": {
   "display_name": "Python 3",
   "language": "python",
   "name": "python3"
  },
  "language_info": {
   "codemirror_mode": {
    "name": "ipython",
    "version": 3
   },
   "file_extension": ".py",
   "mimetype": "text/x-python",
   "name": "python",
   "nbconvert_exporter": "python",
   "pygments_lexer": "ipython3",
   "version": "3.13.2"
  }
 },
 "nbformat": 4,
 "nbformat_minor": 2
}
