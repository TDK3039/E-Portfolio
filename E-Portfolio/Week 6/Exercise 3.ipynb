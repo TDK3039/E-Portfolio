{
 "cells": [
  {
   "cell_type": "code",
   "execution_count": 1,
   "metadata": {},
   "outputs": [
    {
     "name": "stdout",
     "output_type": "stream",
     "text": [
      "The University Website IP is: 159.100.136.66\n",
      "IP Address: 159.100.136.66\n",
      "Network Address: 159.100.136.0/24\n",
      "Subnet Mask: 255.255.255.0\n",
      "Broadcast Address: 159.100.136.255\n",
      "First Usable Host: 159.100.136.1\n",
      "Last Usable Host: 159.100.136.254\n",
      "Number of Usable Hosts: 254\n",
      "Is Private: False\n",
      "Is Global: True\n"
     ]
    }
   ],
   "source": [
    "import socket \n",
    "import ipaddress\n",
    "\n",
    "def analyse_ip_Details(ip_input):\n",
    "    \n",
    "    #Create Ip interface\n",
    "    IP_obj = ipaddress.ip_interface(ip_input)\n",
    "    \n",
    "    print(f\"IP Address: {IP_obj.ip}\")\n",
    "    print(f\"Network Address: {IP_obj.network}\")\n",
    "    print(f\"Subnet Mask: {IP_obj.netmask}\")\n",
    "    print(f\"Broadcast Address: {IP_obj.network.broadcast_address}\")\n",
    "    print(f\"First Usable Host: {IP_obj.network.network_address + 1}\")\n",
    "    print(f\"Last Usable Host: {IP_obj.network.broadcast_address - 1}\")\n",
    "    print(f\"Number of Usable Hosts: {IP_obj.network.num_addresses - 2}\")\n",
    "    print(f\"Is Private: {IP_obj.ip.is_private}\")\n",
    "    print(f\"Is Global: {IP_obj.ip.is_global}\")\n",
    "\n",
    "def analyse_University_Website(domain):\n",
    "    try: \n",
    "        website_IP = socket.gethostbyname(domain)\n",
    "        print(f\"The University Website IP is: {website_IP}\")\n",
    "        \n",
    "        analyse_ip_Details(f\"{website_IP}/24\")\n",
    "    except socket.gaierror:\n",
    "        print(\"An error has occured: We are unable to get the domain name.\")\n",
    "        \n",
    "        \n",
    "#example:\n",
    "analyse_University_Website(\"www.gold.ac.uk\")\n",
    "\n"
   ]
  }
 ],
 "metadata": {
  "kernelspec": {
   "display_name": "Python 3",
   "language": "python",
   "name": "python3"
  },
  "language_info": {
   "codemirror_mode": {
    "name": "ipython",
    "version": 3
   },
   "file_extension": ".py",
   "mimetype": "text/x-python",
   "name": "python",
   "nbconvert_exporter": "python",
   "pygments_lexer": "ipython3",
   "version": "3.13.2"
  }
 },
 "nbformat": 4,
 "nbformat_minor": 2
}
