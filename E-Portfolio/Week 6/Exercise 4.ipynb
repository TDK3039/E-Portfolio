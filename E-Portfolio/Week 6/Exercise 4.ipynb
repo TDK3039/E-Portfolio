{
 "cells": [
  {
   "cell_type": "code",
   "execution_count": 1,
   "metadata": {},
   "outputs": [
    {
     "name": "stdout",
     "output_type": "stream",
     "text": [
      "The Base network: 172.16.0.0/16\n",
      "Engineering Subnet: 172.16.0.0/27\n",
      "Usable Hosts: 30\n",
      "Marketing Subnet: 172.16.0.32/28\n",
      "Usable Hosts: 14\n",
      "Finance Subnet: 172.16.0.48/28\n",
      "Usable Hosts: 14\n",
      "HR Subnet: 172.16.0.64/29\n",
      "Usable Hosts: 6\n"
     ]
    }
   ],
   "source": [
    "import ipaddress\n",
    "def generate_subnet_Plan():\n",
    "    main_Network = ipaddress.ip_network(\"172.16.0.0/16\")\n",
    "    print (f\"The Base network: {main_Network}\")\n",
    "    \n",
    "    #define departments \n",
    "    subnets = [\n",
    "        {\"name\": \"Engineering\", \"size\": 27},\n",
    "        {\"name\": \"Marketing\", \"size\": 28},\n",
    "        {\"name\": \"Finance\", \"size\": 28}, \n",
    "        {\"name\": \"HR\", \"size\": 29},\n",
    "        \n",
    "        ]\n",
    "    current_address = main_Network.network_address\n",
    "    for dept in subnets:\n",
    "        new_subnet = ipaddress.ip_network(f\"{current_address}/{dept['size']}\", strict=False)\n",
    "        print(f\"{dept['name']} Subnet: {new_subnet}\")\n",
    "        print(f\"Usable Hosts: {new_subnet.num_addresses - 2}\")\n",
    "        current_address = new_subnet.broadcast_address + 1\n",
    "        \n",
    "#example:\n",
    "generate_subnet_Plan()"
   ]
  }
 ],
 "metadata": {
  "kernelspec": {
   "display_name": "Python 3",
   "language": "python",
   "name": "python3"
  },
  "language_info": {
   "codemirror_mode": {
    "name": "ipython",
    "version": 3
   },
   "file_extension": ".py",
   "mimetype": "text/x-python",
   "name": "python",
   "nbconvert_exporter": "python",
   "pygments_lexer": "ipython3",
   "version": "3.13.2"
  }
 },
 "nbformat": 4,
 "nbformat_minor": 2
}
